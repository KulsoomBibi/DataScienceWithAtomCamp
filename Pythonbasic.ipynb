{
  "nbformat": 4,
  "nbformat_minor": 0,
  "metadata": {
    "colab": {
      "provenance": [],
      "authorship_tag": "ABX9TyM3eFdRPLTcVwRlrrVD1SCn",
      "include_colab_link": true
    },
    "kernelspec": {
      "name": "python3",
      "display_name": "Python 3"
    },
    "language_info": {
      "name": "python"
    }
  },
  "cells": [
    {
      "cell_type": "markdown",
      "metadata": {
        "id": "view-in-github",
        "colab_type": "text"
      },
      "source": [
        "<a href=\"https://colab.research.google.com/github/KulsoomBibi/DataScienceWithAtomCamp/blob/main/Pythonbasic.ipynb\" target=\"_parent\"><img src=\"https://colab.research.google.com/assets/colab-badge.svg\" alt=\"Open In Colab\"/></a>"
      ]
    },
    {
      "cell_type": "code",
      "execution_count": null,
      "metadata": {
        "colab": {
          "base_uri": "https://localhost:8080/"
        },
        "id": "c8sLOb5BTXn7",
        "outputId": "90a5bda6-214b-4983-a2ef-d6f1d8db4b41"
      },
      "outputs": [
        {
          "output_type": "stream",
          "name": "stdout",
          "text": [
            "which course are you taking?python\n",
            "how much do you like it?3.3\n",
            "what is the cost of the course?400\n",
            "('Your course is:', 'python', 'its rating is', '3.3', 'its cost is', '400')\n",
            "Your course is: python its rating is: 3.3 and its cost is: 400\n"
          ]
        }
      ],
      "source": [
        "#f-string\n",
        "course = input(\"which course are you taking?\")\n",
        "rating = input(\"how much do you like it?\")\n",
        "cost = input(\"what is the cost of the course?\")\n",
        "\n",
        "str1 = \"Your course is:\",course, \"its rating is\", rating, \"its cost is\",cost\n",
        "print(str1)\n",
        "str2 = f\"Your course is: {course} its rating is: {rating} and its cost is: {cost}\"\n",
        "print(str2)"
      ]
    },
    {
      "cell_type": "code",
      "source": [],
      "metadata": {
        "id": "M-PoVjKXXqvw"
      },
      "execution_count": null,
      "outputs": []
    },
    {
      "cell_type": "markdown",
      "source": [
        "**Python Concept of Operator Precedence is same as Math**\n",
        "\n",
        "\n",
        "Exponential Operator**\n",
        "\n",
        "Multiplication/ Division\n",
        "\n",
        "Subtraction/Addition"
      ],
      "metadata": {
        "id": "dnfIj0jmZzrh"
      }
    },
    {
      "cell_type": "code",
      "source": [
        "x1 = 10 + 3 + 2 * 2 - 3\n",
        "print(x1)\n",
        "x2 = (10 + 3 + 2) * 2 - 3\n",
        "print(x2)\n",
        "x3 = 2**3\n",
        "print(x3)\n",
        "x4 = 2 * 3 + 7 / 3 * 2\n",
        "print(x4)"
      ],
      "metadata": {
        "colab": {
          "base_uri": "https://localhost:8080/"
        },
        "id": "1fH-eqjmaMTm",
        "outputId": "da8cf8e6-bfbd-4a1d-909c-017e76241297"
      },
      "execution_count": null,
      "outputs": [
        {
          "output_type": "stream",
          "name": "stdout",
          "text": [
            "14\n",
            "27\n",
            "8\n",
            "10.666666666666668\n"
          ]
        }
      ]
    },
    {
      "cell_type": "code",
      "source": [
        "x = (10 + 3 + 2) * 2 - 3 ** 3\n",
        "print(x)"
      ],
      "metadata": {
        "colab": {
          "base_uri": "https://localhost:8080/"
        },
        "id": "1QgbYaHJa6PS",
        "outputId": "e4a66a44-68f3-42f1-800a-d5bf32e8a219"
      },
      "execution_count": null,
      "outputs": [
        {
          "output_type": "stream",
          "name": "stdout",
          "text": [
            "3\n"
          ]
        }
      ]
    },
    {
      "cell_type": "markdown",
      "source": [
        "**Python Comparison Operators**"
      ],
      "metadata": {
        "id": "v4oAw0TebQkh"
      }
    },
    {
      "cell_type": "code",
      "source": [
        "print(15 == 10)\n",
        "print(15 != 10)\n",
        "print(15 > 10)\n",
        "print(15 < 10)\n",
        "print(15 >= 10)\n",
        "print(15 <= 10)"
      ],
      "metadata": {
        "colab": {
          "base_uri": "https://localhost:8080/"
        },
        "id": "5aRvLdeaa6RP",
        "outputId": "3c93a565-0764-4353-9b77-6dea03306ecf"
      },
      "execution_count": null,
      "outputs": [
        {
          "output_type": "stream",
          "name": "stdout",
          "text": [
            "False\n",
            "True\n",
            "True\n",
            "False\n",
            "True\n",
            "False\n"
          ]
        }
      ]
    },
    {
      "cell_type": "code",
      "source": [
        "a = 10\n",
        "b = 15\n",
        "print(a == b)\n",
        "print(a != b)\n",
        "print(a > b)\n",
        "print(a < b)\n",
        "print(a >= b)\n",
        "print(a <= b)\n",
        "print ('good' == 'bad')\n",
        "print('good' != 'bad')"
      ],
      "metadata": {
        "colab": {
          "base_uri": "https://localhost:8080/"
        },
        "id": "KAH5zB80a6Uv",
        "outputId": "4c585490-a667-4cf5-d3f2-392842bf7431"
      },
      "execution_count": null,
      "outputs": [
        {
          "output_type": "stream",
          "name": "stdout",
          "text": [
            "False\n",
            "True\n",
            "False\n",
            "True\n",
            "False\n",
            "True\n",
            "False\n",
            "True\n"
          ]
        }
      ]
    },
    {
      "cell_type": "markdown",
      "source": [
        "**Logical Operators**\n",
        "\n",
        "and\n",
        "\n",
        "or\n",
        "\n",
        "not"
      ],
      "metadata": {
        "id": "TBqCLtXqdd5b"
      }
    },
    {
      "cell_type": "code",
      "source": [
        "my_number = 10\n",
        "print(my_number > 5 and my_number < 15)\n",
        "print(my_number > 5 or my_number < 15)\n",
        "print(not my_number > 5)\n",
        "print(not my_number < 5)"
      ],
      "metadata": {
        "colab": {
          "base_uri": "https://localhost:8080/"
        },
        "id": "9hjHk6JSa6Wz",
        "outputId": "0b159e2a-4705-42d9-d8e3-2c2b96bb97b8"
      },
      "execution_count": null,
      "outputs": [
        {
          "output_type": "stream",
          "name": "stdout",
          "text": [
            "True\n",
            "True\n",
            "False\n",
            "True\n"
          ]
        }
      ]
    },
    {
      "cell_type": "markdown",
      "source": [
        "**Python Strings**()"
      ],
      "metadata": {
        "id": "0Dtm_tqdesl7"
      }
    },
    {
      "cell_type": "code",
      "source": [
        "str1 = 'Hello World'\n",
        "print(str1)"
      ],
      "metadata": {
        "colab": {
          "base_uri": "https://localhost:8080/"
        },
        "id": "CEsNZ2fza6YY",
        "outputId": "57f611a2-868d-49a8-a1be-252bd30327b2"
      },
      "execution_count": null,
      "outputs": [
        {
          "output_type": "stream",
          "name": "stdout",
          "text": [
            "Hello World\n"
          ]
        }
      ]
    },
    {
      "cell_type": "code",
      "source": [
        "str1 = 'Hello \"World\"'\n",
        "\n",
        "print(str1)"
      ],
      "metadata": {
        "colab": {
          "base_uri": "https://localhost:8080/"
        },
        "id": "Rr7Dung7a6ag",
        "outputId": "e77094f3-b437-4e5b-e155-ef7e27f8357b"
      },
      "execution_count": null,
      "outputs": [
        {
          "output_type": "stream",
          "name": "stdout",
          "text": [
            "Hello \"World\"\n"
          ]
        }
      ]
    },
    {
      "cell_type": "code",
      "source": [
        "str2 = '''\n",
        "Hi Team,\n",
        "\n",
        "Good work,\n",
        "\n",
        "Best,\n",
        "'''\n",
        "print(str2)"
      ],
      "metadata": {
        "colab": {
          "base_uri": "https://localhost:8080/"
        },
        "id": "UXUwJtVZf82y",
        "outputId": "e3bb9606-6704-49a8-ab31-adcd5a74e4dc"
      },
      "execution_count": null,
      "outputs": [
        {
          "output_type": "stream",
          "name": "stdout",
          "text": [
            "\n",
            "Hi Team,\n",
            "\n",
            "Good work,\n",
            "\n",
            "Best,\n",
            "\n"
          ]
        }
      ]
    },
    {
      "cell_type": "code",
      "source": [
        "str1 = \"Plese visit Google\"\n",
        "print(str1)\n",
        "str2 = 'Please visit Microsoft'\n",
        "print(str2)"
      ],
      "metadata": {
        "colab": {
          "base_uri": "https://localhost:8080/"
        },
        "id": "1ojPvvEOf84z",
        "outputId": "75a3f8b6-2f00-43be-9a2f-eb8f5d6143e3"
      },
      "execution_count": null,
      "outputs": [
        {
          "output_type": "stream",
          "name": "stdout",
          "text": [
            "Plese visit Google\n",
            "Please visit Microsoft\n"
          ]
        }
      ]
    },
    {
      "cell_type": "markdown",
      "source": [
        "**String Slicing**\n",
        "\n",
        "[startindex:endindex]\n",
        "\n",
        "Slicing returns at the start index but nit character of the last index"
      ],
      "metadata": {
        "id": "iqANqI0rimSP"
      }
    },
    {
      "cell_type": "code",
      "source": [
        "str1 = \"Plese visit Google\"\n",
        "print(str1[0:11])"
      ],
      "metadata": {
        "colab": {
          "base_uri": "https://localhost:8080/"
        },
        "id": "GXmFFZ_hf86r",
        "outputId": "dae4b351-7220-4d2e-dea0-5eb808e666ca"
      },
      "execution_count": null,
      "outputs": [
        {
          "output_type": "stream",
          "name": "stdout",
          "text": [
            "Plese visit\n"
          ]
        }
      ]
    },
    {
      "cell_type": "code",
      "source": [
        "str1 = \"Plese visit Google\"\n",
        "print(str1[:-6])"
      ],
      "metadata": {
        "colab": {
          "base_uri": "https://localhost:8080/"
        },
        "id": "BpGFEt9Qf89K",
        "outputId": "18fdd8f5-bd50-4911-9fa5-65ab9bd96468"
      },
      "execution_count": null,
      "outputs": [
        {
          "output_type": "stream",
          "name": "stdout",
          "text": [
            "Plese visit \n"
          ]
        }
      ]
    },
    {
      "cell_type": "code",
      "source": [
        "str1 = \"Plese visit Google\"\n",
        "print(str1[:])"
      ],
      "metadata": {
        "colab": {
          "base_uri": "https://localhost:8080/"
        },
        "id": "lJWhNnTlkqZF",
        "outputId": "a0226c82-8302-41b5-fa36-6bd4eaca2faf"
      },
      "execution_count": null,
      "outputs": [
        {
          "output_type": "stream",
          "name": "stdout",
          "text": [
            "Plese visit Google\n"
          ]
        }
      ]
    },
    {
      "cell_type": "code",
      "source": [
        "str1 = \"Plese visit Google\"\n",
        "print(str1[5:])"
      ],
      "metadata": {
        "colab": {
          "base_uri": "https://localhost:8080/"
        },
        "id": "5mX__98QkqbT",
        "outputId": "48ab4826-870c-4764-b361-8428f82b0035"
      },
      "execution_count": null,
      "outputs": [
        {
          "output_type": "stream",
          "name": "stdout",
          "text": [
            " visit Google\n"
          ]
        }
      ]
    },
    {
      "cell_type": "code",
      "source": [
        "str1 = \"Plese visit Google\"\n",
        "print(str1[5:-3])\n"
      ],
      "metadata": {
        "colab": {
          "base_uri": "https://localhost:8080/"
        },
        "id": "cTRHU3ajkqdV",
        "outputId": "861301a2-9cb3-4276-cc71-aeb3689eedb2"
      },
      "execution_count": null,
      "outputs": [
        {
          "output_type": "stream",
          "name": "stdout",
          "text": [
            " visit Goo\n"
          ]
        }
      ]
    },
    {
      "cell_type": "markdown",
      "source": [
        "**Length**\n",
        "\n",
        "len"
      ],
      "metadata": {
        "id": "iYMXPMfXlKZE"
      }
    },
    {
      "cell_type": "code",
      "source": [
        "str1 = \"Plese visit Google\"\n",
        "print(len(str1))"
      ],
      "metadata": {
        "colab": {
          "base_uri": "https://localhost:8080/"
        },
        "id": "pxUrwpWzkqfX",
        "outputId": "f7e72ac2-e14f-459e-95cf-477094ad9065"
      },
      "execution_count": null,
      "outputs": [
        {
          "output_type": "stream",
          "name": "stdout",
          "text": [
            "18\n"
          ]
        }
      ]
    },
    {
      "cell_type": "code",
      "source": [
        "str1 = \"Plese visit Google\"\n",
        "str1 = str1[0:11] + \" Microsoft\"\n",
        "print(str1)"
      ],
      "metadata": {
        "colab": {
          "base_uri": "https://localhost:8080/"
        },
        "id": "t5XovRYvkqhq",
        "outputId": "25c96d94-6255-42ba-cfbe-a260093843ac"
      },
      "execution_count": null,
      "outputs": [
        {
          "output_type": "stream",
          "name": "stdout",
          "text": [
            "Plese visit Microsoft\n"
          ]
        }
      ]
    },
    {
      "cell_type": "markdown",
      "source": [
        "**Reverse String**\n",
        "\n",
        "**::**"
      ],
      "metadata": {
        "id": "0r31vec5mErN"
      }
    },
    {
      "cell_type": "code",
      "source": [
        "str1 = \"Plese visit Google\"\n",
        "print(str1[::-1])\n",
        "print(\"\".join(reversed(str1)))"
      ],
      "metadata": {
        "colab": {
          "base_uri": "https://localhost:8080/"
        },
        "id": "I8xLXnGNmEBZ",
        "outputId": "6d1bae8e-01d0-4b6c-af0a-817f829b9e98"
      },
      "execution_count": null,
      "outputs": [
        {
          "output_type": "stream",
          "name": "stdout",
          "text": [
            "elgooG tisiv eselP\n",
            "elgooG tisiv eselP\n"
          ]
        }
      ]
    },
    {
      "cell_type": "markdown",
      "source": [
        "**in and not in**"
      ],
      "metadata": {
        "id": "RsMKTdKDo5f_"
      }
    },
    {
      "cell_type": "code",
      "source": [
        "str1 = \"Plese visit Google\"\n",
        "sub_str1 = \"Microsoft\"\n",
        "print(sub_str1 in  str1)\n",
        "print(sub_str1 not in str1)\n",
        "\n",
        "str2 = \"Plese visit Google\"\n",
        "sub_str2 = \"gle\"\n",
        "print(sub_str2 in  str2)\n",
        "print(sub_str2 not in str2)\n"
      ],
      "metadata": {
        "colab": {
          "base_uri": "https://localhost:8080/"
        },
        "id": "FU0u4CshmEDV",
        "outputId": "66884b3e-470a-4c39-ce0c-53a6b994d1b7"
      },
      "execution_count": null,
      "outputs": [
        {
          "output_type": "stream",
          "name": "stdout",
          "text": [
            "False\n",
            "True\n",
            "True\n",
            "False\n"
          ]
        }
      ]
    },
    {
      "cell_type": "markdown",
      "source": [
        "**String Constants Buil-in Function**"
      ],
      "metadata": {
        "id": "f2846vwsqLa3"
      }
    },
    {
      "cell_type": "code",
      "source": [
        "text = \"Hello World\"\n",
        "print(text.upper())\n",
        "print(text.lower())\n",
        "print(text.title())\n",
        "print(text.capitalize())\n",
        "print(text.swapcase())"
      ],
      "metadata": {
        "colab": {
          "base_uri": "https://localhost:8080/"
        },
        "id": "pE3BsfgCmEFd",
        "outputId": "ac46a328-d03d-4efd-bad6-ba65f6e14b3a"
      },
      "execution_count": null,
      "outputs": [
        {
          "output_type": "stream",
          "name": "stdout",
          "text": [
            "HELLO WORLD\n",
            "hello world\n",
            "Hello World\n",
            "Hello world\n",
            "hELLO wORLD\n"
          ]
        }
      ]
    },
    {
      "cell_type": "markdown",
      "source": [
        "**endwith**\n",
        "\n",
        "(suffix, start, end)"
      ],
      "metadata": {
        "id": "liPXMGhmrpn3"
      }
    },
    {
      "cell_type": "code",
      "source": [
        "email = 'someone@gmail.com'\n",
        "print(email.endswith('gmail.com'))"
      ],
      "metadata": {
        "colab": {
          "base_uri": "https://localhost:8080/"
        },
        "id": "rUGFyknIrCLH",
        "outputId": "67bf5928-2361-4a02-82f1-141d0225dff1"
      },
      "execution_count": null,
      "outputs": [
        {
          "output_type": "stream",
          "name": "stdout",
          "text": [
            "True\n"
          ]
        }
      ]
    },
    {
      "cell_type": "code",
      "source": [
        "text = \"Hello World\"\n",
        "print(text.startswith('Hello'))"
      ],
      "metadata": {
        "colab": {
          "base_uri": "https://localhost:8080/"
        },
        "id": "iZo2fjzcrCNF",
        "outputId": "bfbcb91d-1571-4693-f702-1f2ca69e84bc"
      },
      "execution_count": null,
      "outputs": [
        {
          "output_type": "stream",
          "name": "stdout",
          "text": [
            "True\n"
          ]
        }
      ]
    },
    {
      "cell_type": "code",
      "source": [
        "text = \"Hello World how are you \"\n",
        "print(text.endswith('yo'))"
      ],
      "metadata": {
        "colab": {
          "base_uri": "https://localhost:8080/"
        },
        "id": "ExyjtAgkrCPQ",
        "outputId": "f971bb11-b7b0-4437-eed2-5a6677898a62"
      },
      "execution_count": null,
      "outputs": [
        {
          "output_type": "stream",
          "name": "stdout",
          "text": [
            "False\n"
          ]
        }
      ]
    },
    {
      "cell_type": "code",
      "source": [
        "text = \"Hello World how are you \"\n",
        "print(text.count('o'))"
      ],
      "metadata": {
        "colab": {
          "base_uri": "https://localhost:8080/"
        },
        "id": "lDDNxxWMrCRO",
        "outputId": "5ad32cf8-b1fc-4eb6-9548-00dc11bb3266"
      },
      "execution_count": null,
      "outputs": [
        {
          "output_type": "stream",
          "name": "stdout",
          "text": [
            "4\n"
          ]
        }
      ]
    },
    {
      "cell_type": "code",
      "source": [
        "text = \"Hello World how are you \"\n",
        "print(text.count('o',0,10))"
      ],
      "metadata": {
        "colab": {
          "base_uri": "https://localhost:8080/"
        },
        "id": "mZFvrDA7rCS_",
        "outputId": "f03ec32c-b965-41f2-d288-a1926ccdc71c"
      },
      "execution_count": null,
      "outputs": [
        {
          "output_type": "stream",
          "name": "stdout",
          "text": [
            "2\n"
          ]
        }
      ]
    },
    {
      "cell_type": "code",
      "source": [
        "text = \"Hello World how are you \"\n",
        "print(text.find('o'))"
      ],
      "metadata": {
        "colab": {
          "base_uri": "https://localhost:8080/"
        },
        "id": "ZcDzo5iHrCVF",
        "outputId": "dd1431c2-a161-4642-83ab-3b7700df1929"
      },
      "execution_count": null,
      "outputs": [
        {
          "output_type": "stream",
          "name": "stdout",
          "text": [
            "4\n"
          ]
        }
      ]
    },
    {
      "cell_type": "code",
      "source": [
        "text = \"Hello World how are you \"\n",
        "print(text.isdigit())\n",
        "\n",
        "text = \"Hello World how are you \"\n",
        "print(\"text\".isalpha())\n",
        "\n",
        "\n",
        "text = \"Hello World how are you \"\n",
        "print(text.index('e'))"
      ],
      "metadata": {
        "colab": {
          "base_uri": "https://localhost:8080/"
        },
        "id": "GyUSwsmDrCXc",
        "outputId": "6e381128-d660-4f42-f052-b1e8727de277"
      },
      "execution_count": null,
      "outputs": [
        {
          "output_type": "stream",
          "name": "stdout",
          "text": [
            "False\n",
            "True\n",
            "1\n"
          ]
        }
      ]
    },
    {
      "cell_type": "markdown",
      "source": [
        "***Python List***[ ]"
      ],
      "metadata": {
        "id": "--bA8Wpmvwwd"
      }
    },
    {
      "cell_type": "code",
      "source": [
        "list1 = [10,20,30,40]\n",
        "print(list1)\n",
        "list2 = [\"mango\",\"apple\",\"orange\"]\n",
        "print(list2)\n",
        "list3 = [10, \"mango\",15.5, True]\n",
        "print(list3)"
      ],
      "metadata": {
        "colab": {
          "base_uri": "https://localhost:8080/"
        },
        "id": "7U9vZYdLmEJW",
        "outputId": "f35d556b-185e-4dad-d10b-ac144d298540"
      },
      "execution_count": null,
      "outputs": [
        {
          "output_type": "stream",
          "name": "stdout",
          "text": [
            "[10, 20, 30, 40]\n",
            "['mango', 'apple', 'orange']\n",
            "[10, 'mango', 15.5, True]\n"
          ]
        }
      ]
    },
    {
      "cell_type": "code",
      "source": [
        "print(list1[0])\n",
        "print(list2[1])\n",
        "print(list3[1:-1])"
      ],
      "metadata": {
        "colab": {
          "base_uri": "https://localhost:8080/"
        },
        "id": "fbqSSR_uvcAJ",
        "outputId": "786383e5-2b7b-47bd-f9ba-75e5ec3571bc"
      },
      "execution_count": null,
      "outputs": [
        {
          "output_type": "stream",
          "name": "stdout",
          "text": [
            "10\n",
            "apple\n",
            "['mango', 15.5]\n"
          ]
        }
      ]
    },
    {
      "cell_type": "code",
      "source": [
        "list2 = list2 + [445, \"cherry\"]\n",
        "print(list2)"
      ],
      "metadata": {
        "colab": {
          "base_uri": "https://localhost:8080/"
        },
        "id": "sC90x7lJvcGJ",
        "outputId": "e4bdb62f-0479-4ec7-ae1b-558c7ffbc287"
      },
      "execution_count": null,
      "outputs": [
        {
          "output_type": "stream",
          "name": "stdout",
          "text": [
            "['mango', 'apple', 'orange', 445, 'cherry']\n"
          ]
        }
      ]
    },
    {
      "cell_type": "code",
      "source": [
        "list2.append(\"banana\")\n",
        "print(list2)"
      ],
      "metadata": {
        "colab": {
          "base_uri": "https://localhost:8080/"
        },
        "id": "m__A5cvHvcJ7",
        "outputId": "34906392-ce62-42c5-8499-82ec3b6a75bd"
      },
      "execution_count": null,
      "outputs": [
        {
          "output_type": "stream",
          "name": "stdout",
          "text": [
            "['mango', 'apple', 'orange', 445, 'cherry', 'banana']\n"
          ]
        }
      ]
    },
    {
      "cell_type": "code",
      "source": [
        "list2.insert(3,2000)\n",
        "print(list2)"
      ],
      "metadata": {
        "colab": {
          "base_uri": "https://localhost:8080/"
        },
        "id": "ZFy_tiJzvcSZ",
        "outputId": "6456b1a2-4fb5-4c0a-9a82-3bdbf2560cc1"
      },
      "execution_count": null,
      "outputs": [
        {
          "output_type": "stream",
          "name": "stdout",
          "text": [
            "['mango', 'apple', 'orange', 2000, 445, 'cherry', 'banana']\n"
          ]
        }
      ]
    },
    {
      "cell_type": "code",
      "source": [
        "list2.remove(2000)\n",
        "print(list2)"
      ],
      "metadata": {
        "colab": {
          "base_uri": "https://localhost:8080/"
        },
        "id": "bz55V2FPvcU3",
        "outputId": "5ebb6474-32e3-4482-ab13-96254418cf63"
      },
      "execution_count": null,
      "outputs": [
        {
          "output_type": "stream",
          "name": "stdout",
          "text": [
            "['mango', 'apple', 'orange', 445, 'cherry', 'banana']\n"
          ]
        }
      ]
    },
    {
      "cell_type": "code",
      "source": [
        "list2.pop(2)\n",
        "print(list2)"
      ],
      "metadata": {
        "colab": {
          "base_uri": "https://localhost:8080/"
        },
        "id": "1TQ_qrojvcX-",
        "outputId": "de28906b-a582-448a-f963-f7f72a439c34"
      },
      "execution_count": null,
      "outputs": [
        {
          "output_type": "stream",
          "name": "stdout",
          "text": [
            "['mango', 'apple', 445, 'cherry']\n"
          ]
        }
      ]
    },
    {
      "cell_type": "code",
      "source": [
        "list2.clear()\n",
        "print(list2)"
      ],
      "metadata": {
        "colab": {
          "base_uri": "https://localhost:8080/"
        },
        "id": "1K24nt4xzekI",
        "outputId": "60e4ce4e-823e-418a-84cb-993dca8813bc"
      },
      "execution_count": null,
      "outputs": [
        {
          "output_type": "stream",
          "name": "stdout",
          "text": [
            "[]\n"
          ]
        }
      ]
    },
    {
      "cell_type": "code",
      "source": [
        "list2 = [\"mango\", \"apple\", \"orange\"]\n",
        "print(list2)"
      ],
      "metadata": {
        "colab": {
          "base_uri": "https://localhost:8080/"
        },
        "id": "9pwx3fxmzenn",
        "outputId": "5bc4f5ee-6d62-44f6-813a-ae189bfe00a6"
      },
      "execution_count": null,
      "outputs": [
        {
          "output_type": "stream",
          "name": "stdout",
          "text": [
            "['mango', 'apple', 'orange']\n"
          ]
        }
      ]
    },
    {
      "cell_type": "code",
      "source": [
        "list2.extend([\"cherry\", \"banana\", 10, 10.5, True])\n",
        "print(list2)"
      ],
      "metadata": {
        "colab": {
          "base_uri": "https://localhost:8080/"
        },
        "id": "VlW2m_3azeqP",
        "outputId": "7ef9413e-2bfb-49fe-cab4-75a07fd6e9db"
      },
      "execution_count": null,
      "outputs": [
        {
          "output_type": "stream",
          "name": "stdout",
          "text": [
            "['mango', 'apple', 'orange', 'cherry', 'banana', 'cherry', 'banana', 10, 10.5, True]\n"
          ]
        }
      ]
    },
    {
      "cell_type": "code",
      "source": [],
      "metadata": {
        "id": "Vt1TQLkxvcao"
      },
      "execution_count": null,
      "outputs": []
    },
    {
      "cell_type": "markdown",
      "source": [
        "**Python 2D List**[]"
      ],
      "metadata": {
        "id": "Wug-uaNjHh-Y"
      }
    },
    {
      "cell_type": "code",
      "source": [
        "list1 = [\"name\", 10, 12.5, \"course\", [10,20,30,40]]\n",
        "list1[4][2]\n",
        "print(list1)"
      ],
      "metadata": {
        "colab": {
          "base_uri": "https://localhost:8080/"
        },
        "id": "8-yFcuXEHshT",
        "outputId": "71efe7c5-6be0-42af-fa17-62020b1f2d6b"
      },
      "execution_count": null,
      "outputs": [
        {
          "output_type": "stream",
          "name": "stdout",
          "text": [
            "['name', 10, 12.5, 'course', [10, 20, 30, 40]]\n"
          ]
        }
      ]
    },
    {
      "cell_type": "code",
      "source": [
        "T = [[1,2,3,4],[5,6,7,8],[9,10,11,12]]\n",
        "print(T)"
      ],
      "metadata": {
        "colab": {
          "base_uri": "https://localhost:8080/"
        },
        "id": "iqsKvrIeHtWX",
        "outputId": "de50b319-b3ee-42dc-d0d5-581cbbfd0cac"
      },
      "execution_count": null,
      "outputs": [
        {
          "output_type": "stream",
          "name": "stdout",
          "text": [
            "[[1, 2, 3, 4], [5, 6, 7, 8], [9, 10, 11, 12]]\n"
          ]
        }
      ]
    },
    {
      "cell_type": "code",
      "source": [
        "print(T[1][2])"
      ],
      "metadata": {
        "colab": {
          "base_uri": "https://localhost:8080/"
        },
        "id": "xwvJkO15HtYv",
        "outputId": "b87153a4-11f8-467d-be03-c934592977c4"
      },
      "execution_count": null,
      "outputs": [
        {
          "output_type": "stream",
          "name": "stdout",
          "text": [
            "7\n"
          ]
        }
      ]
    },
    {
      "cell_type": "code",
      "source": [
        "T.insert(2,[13,14,15,16])\n",
        "print(T)"
      ],
      "metadata": {
        "colab": {
          "base_uri": "https://localhost:8080/"
        },
        "id": "hy8QkqVIHtbH",
        "outputId": "1670331c-29df-46a2-cca0-cf3a06cb718f"
      },
      "execution_count": null,
      "outputs": [
        {
          "output_type": "stream",
          "name": "stdout",
          "text": [
            "[[1, 2, 3, 4], [5, 6, 7, 8], [13, 14, 15, 16], [13, 14, 15, 16], [9, 10, 11, 12]]\n"
          ]
        }
      ]
    },
    {
      "cell_type": "code",
      "source": [
        "T.extend([17,18,19,20])\n",
        "print(T)"
      ],
      "metadata": {
        "colab": {
          "base_uri": "https://localhost:8080/"
        },
        "id": "MdNEGg4AHtc6",
        "outputId": "93c4c517-b7bb-4c80-9725-ac4c6fe1136e"
      },
      "execution_count": null,
      "outputs": [
        {
          "output_type": "stream",
          "name": "stdout",
          "text": [
            "[[1, 2, 3, 4], [13, 14, 100], [9, 10, 11, 12], 17, 18, 19, 20, 17, 18, 19, 20]\n"
          ]
        }
      ]
    },
    {
      "cell_type": "code",
      "source": [
        "del T[2]\n",
        "print(T)"
      ],
      "metadata": {
        "colab": {
          "base_uri": "https://localhost:8080/"
        },
        "id": "_9vgWX8PHtfC",
        "outputId": "226a5496-f930-412b-8ca2-64e26e71b51d"
      },
      "execution_count": null,
      "outputs": [
        {
          "output_type": "stream",
          "name": "stdout",
          "text": [
            "[[1, 2, 3, 4], [5, 6, 7, 8], [13, 14, 15, 16], [9, 10, 11, 12], 17, 18, 19, 20]\n"
          ]
        }
      ]
    },
    {
      "cell_type": "code",
      "source": [
        "del T[2][2]\n",
        "print(T)"
      ],
      "metadata": {
        "colab": {
          "base_uri": "https://localhost:8080/"
        },
        "id": "uvyP5rjVHthG",
        "outputId": "214ea00c-8d97-4b80-c2a2-fc9e2f94713f"
      },
      "execution_count": null,
      "outputs": [
        {
          "output_type": "stream",
          "name": "stdout",
          "text": [
            "[[1, 2, 3, 4], [5, 6, 7, 8], [13, 14, 16], [9, 10, 11, 12], 17, 18, 19, 20]\n"
          ]
        }
      ]
    },
    {
      "cell_type": "code",
      "source": [
        "T[1].remove(6)\n",
        "print(T)"
      ],
      "metadata": {
        "colab": {
          "base_uri": "https://localhost:8080/"
        },
        "id": "drf_PJqSHsjw",
        "outputId": "cbfe9e27-89ae-45d8-d30b-b9333471f111"
      },
      "execution_count": null,
      "outputs": [
        {
          "output_type": "stream",
          "name": "stdout",
          "text": [
            "[[1, 2, 3, 4], [5, 7, 8], [13, 14, 16], [9, 10, 11, 12], 17, 18, 19, 20]\n"
          ]
        }
      ]
    },
    {
      "cell_type": "code",
      "source": [
        "T.pop(1)\n",
        "print(T)"
      ],
      "metadata": {
        "colab": {
          "base_uri": "https://localhost:8080/"
        },
        "id": "7mZSkqvqHsuZ",
        "outputId": "a37c2016-852d-4c3d-dc32-c8fb82d8e4a3"
      },
      "execution_count": null,
      "outputs": [
        {
          "output_type": "stream",
          "name": "stdout",
          "text": [
            "[[1, 2, 3, 4], [13, 14, 16], [9, 10, 11, 12], 17, 18, 19, 20]\n"
          ]
        }
      ]
    },
    {
      "cell_type": "code",
      "source": [
        "T[1][2] = 100\n",
        "print(T)"
      ],
      "metadata": {
        "colab": {
          "base_uri": "https://localhost:8080/"
        },
        "id": "uaWy9QxeHswi",
        "outputId": "204375b1-f157-4aae-c0c4-f6ffbdd18841"
      },
      "execution_count": null,
      "outputs": [
        {
          "output_type": "stream",
          "name": "stdout",
          "text": [
            "[[1, 2, 3, 4], [13, 14, 100], [9, 10, 11, 12], 17, 18, 19, 20]\n"
          ]
        }
      ]
    },
    {
      "cell_type": "markdown",
      "source": [
        "**Python Dictionaries**\n",
        "\n",
        "key-value pairs{}"
      ],
      "metadata": {
        "id": "iUyUwBz_MHd5"
      }
    },
    {
      "cell_type": "code",
      "source": [
        "std = {'name': 'Kulsoom'}\n",
        "print(std)"
      ],
      "metadata": {
        "colab": {
          "base_uri": "https://localhost:8080/"
        },
        "id": "NPz_ZBDpLo91",
        "outputId": "624c105c-42e6-4bcb-d14d-21022bfc7d6b"
      },
      "execution_count": null,
      "outputs": [
        {
          "output_type": "stream",
          "name": "stdout",
          "text": [
            "{'name': 'Kulsoom'}\n"
          ]
        }
      ]
    },
    {
      "cell_type": "code",
      "source": [
        "std = {'name': 'Kulsoom'}\n",
        "print(std['name'])"
      ],
      "metadata": {
        "colab": {
          "base_uri": "https://localhost:8080/"
        },
        "id": "5UQ3Y9QNLo_s",
        "outputId": "83e74df8-6c0d-4084-dd03-c88409b9beb3"
      },
      "execution_count": null,
      "outputs": [
        {
          "output_type": "stream",
          "name": "stdout",
          "text": [
            "Kulsoom\n"
          ]
        }
      ]
    },
    {
      "cell_type": "code",
      "source": [
        "print(std.get('name'))"
      ],
      "metadata": {
        "colab": {
          "base_uri": "https://localhost:8080/"
        },
        "id": "kOdbsZVyLpBq",
        "outputId": "cdd5792f-7288-4d8c-db56-9853853f79b0"
      },
      "execution_count": null,
      "outputs": [
        {
          "output_type": "stream",
          "name": "stdout",
          "text": [
            "Kulsoom\n"
          ]
        }
      ]
    },
    {
      "cell_type": "code",
      "source": [
        "print(std.get('course'))"
      ],
      "metadata": {
        "colab": {
          "base_uri": "https://localhost:8080/"
        },
        "id": "E4vGtUYWLpF6",
        "outputId": "715c6593-d636-4f66-e0bf-365a10cf5907"
      },
      "execution_count": null,
      "outputs": [
        {
          "output_type": "stream",
          "name": "stdout",
          "text": [
            "None\n"
          ]
        }
      ]
    },
    {
      "cell_type": "code",
      "source": [
        "std['courses'] = [\"python\", \"java\", \"c++\"]\n",
        "print(std)"
      ],
      "metadata": {
        "colab": {
          "base_uri": "https://localhost:8080/"
        },
        "id": "mltEyT2rN6N0",
        "outputId": "9bd4a80f-2541-4c05-8932-2d39cc2a7ab7"
      },
      "execution_count": null,
      "outputs": [
        {
          "output_type": "stream",
          "name": "stdout",
          "text": [
            "{'name': 'Kulsoom', 'courses': ['python', 'java', 'c++']}\n"
          ]
        }
      ]
    },
    {
      "cell_type": "code",
      "source": [
        "std['phone'] = 123456789\n",
        "print(std)"
      ],
      "metadata": {
        "colab": {
          "base_uri": "https://localhost:8080/"
        },
        "id": "SJVdBrAUN6R7",
        "outputId": "dd58b7e3-c84b-40e3-d7ba-2862a6a83bde"
      },
      "execution_count": null,
      "outputs": [
        {
          "output_type": "stream",
          "name": "stdout",
          "text": [
            "{'name': 'Kulsoom', 'courses': ['python', 'java', 'c++'], 'phone': 123456789}\n"
          ]
        }
      ]
    },
    {
      "cell_type": "code",
      "source": [
        "std['city'] = 'Islamabad'\n",
        "print(std)"
      ],
      "metadata": {
        "colab": {
          "base_uri": "https://localhost:8080/"
        },
        "id": "7QbTH1WON6V9",
        "outputId": "2341e6d1-8725-4dab-9307-2ed1ffb730b9"
      },
      "execution_count": null,
      "outputs": [
        {
          "output_type": "stream",
          "name": "stdout",
          "text": [
            "{'name': 'Kulsoom', 'courses': ['python', 'java', 'c++'], 'phone': 123456789, 'city': 'Islamabad'}\n"
          ]
        }
      ]
    },
    {
      "cell_type": "code",
      "source": [
        "del std['city']\n",
        "print(std)"
      ],
      "metadata": {
        "colab": {
          "base_uri": "https://localhost:8080/"
        },
        "id": "0GJW6nwTN6aP",
        "outputId": "26c2a30c-fa5f-4778-e1e4-27eb43098b22"
      },
      "execution_count": null,
      "outputs": [
        {
          "output_type": "stream",
          "name": "stdout",
          "text": [
            "{'name': 'Kulsoom', 'courses': ['python', 'java', 'c++'], 'phone': 123456789}\n"
          ]
        }
      ]
    },
    {
      "cell_type": "code",
      "source": [
        "course = {'CS-001': 'Introduction to computer', 'CS-002' : 'Data Structures', 'CS-003': 'Introduction to Math', 'CS-004' : 'Data Science'}\n",
        "print(course)"
      ],
      "metadata": {
        "colab": {
          "base_uri": "https://localhost:8080/"
        },
        "id": "GlYTFx5UN6c1",
        "outputId": "d51e54a1-e353-4a81-86d6-815ebcf2c9d6"
      },
      "execution_count": null,
      "outputs": [
        {
          "output_type": "stream",
          "name": "stdout",
          "text": [
            "{'CS-001': 'Introduction to computer', 'CS-002': 'Data Structures', 'CS-003': 'Introduction to Math', 'CS-004': 'Data Science'}\n"
          ]
        }
      ]
    },
    {
      "cell_type": "code",
      "source": [
        "print(len(course))"
      ],
      "metadata": {
        "colab": {
          "base_uri": "https://localhost:8080/"
        },
        "id": "2q76yDx_N6em",
        "outputId": "604c638e-19f7-40f4-a374-6c12840891e8"
      },
      "execution_count": null,
      "outputs": [
        {
          "output_type": "stream",
          "name": "stdout",
          "text": [
            "2\n"
          ]
        }
      ]
    },
    {
      "cell_type": "code",
      "source": [
        "print(course.keys())"
      ],
      "metadata": {
        "colab": {
          "base_uri": "https://localhost:8080/"
        },
        "id": "LJDE3HsTN6gZ",
        "outputId": "a82f7768-825a-4a2e-b825-ae489386f4f9"
      },
      "execution_count": null,
      "outputs": [
        {
          "output_type": "stream",
          "name": "stdout",
          "text": [
            "dict_keys(['CS-001', 'CS-002', 'CS-003', 'CS-004'])\n"
          ]
        }
      ]
    },
    {
      "cell_type": "code",
      "source": [
        "print(course.values())"
      ],
      "metadata": {
        "colab": {
          "base_uri": "https://localhost:8080/"
        },
        "id": "r9YtEetdN6iQ",
        "outputId": "62392b45-1341-43b2-eae6-642b9bc496c9"
      },
      "execution_count": null,
      "outputs": [
        {
          "output_type": "stream",
          "name": "stdout",
          "text": [
            "dict_values(['Introduction to computer', 'Data Structures', 'Introduction to Math', 'Data Science'])\n"
          ]
        }
      ]
    },
    {
      "cell_type": "code",
      "source": [
        "print(course.items())"
      ],
      "metadata": {
        "colab": {
          "base_uri": "https://localhost:8080/"
        },
        "id": "59oBtV6TN6k2",
        "outputId": "374acda9-1369-4675-e189-0413f7d00de8"
      },
      "execution_count": null,
      "outputs": [
        {
          "output_type": "stream",
          "name": "stdout",
          "text": [
            "dict_items([('CS-001', 'Introduction to computer'), ('CS-002', 'Data Structures'), ('CS-003', 'Introduction to Math'), ('CS-004', 'Data Science')])\n"
          ]
        }
      ]
    },
    {
      "cell_type": "code",
      "source": [
        "for key, value in course.items():\n",
        "  print(key, value)"
      ],
      "metadata": {
        "colab": {
          "base_uri": "https://localhost:8080/"
        },
        "id": "ju_gSUeUN6pF",
        "outputId": "b483f084-3d0f-4d07-881c-6fb16e221afc"
      },
      "execution_count": null,
      "outputs": [
        {
          "output_type": "stream",
          "name": "stdout",
          "text": [
            "CS-001 Introduction to computer\n",
            "CS-002 Data Structures\n",
            "CS-003 Introduction to Math\n",
            "CS-004 Data Science\n"
          ]
        }
      ]
    },
    {
      "cell_type": "markdown",
      "source": [
        "**If Statement**\n",
        "\n",
        "if (condition):(statement)\n",
        "\n",
        "\n",
        "if (x>=4 and x<10):(print(x))\n",
        "\n",
        "\n",
        "\n",
        "\n"
      ],
      "metadata": {
        "id": "eeOTkKxHaH7Z"
      }
    },
    {
      "cell_type": "code",
      "source": [
        "num = int(input(\"Enter a number:\"))\n",
        "if num >= 0:\n",
        "  print(\"Number is positive\")"
      ],
      "metadata": {
        "colab": {
          "base_uri": "https://localhost:8080/"
        },
        "id": "H7_ldqJ7SALN",
        "outputId": "f8f7673f-9396-4851-d357-3663f4195dcc"
      },
      "execution_count": null,
      "outputs": [
        {
          "output_type": "stream",
          "name": "stdout",
          "text": [
            "Enter a number:8\n",
            "Number is positive\n"
          ]
        }
      ]
    },
    {
      "cell_type": "code",
      "source": [
        "price = int(input(\"Enter the price of the item: \"))\n",
        "\n",
        "if price < 100:\n",
        "    discount = (price * 0.05)\n",
        "    print (\"The discount is \", discount)\n",
        "else:\n",
        "    discount = (price * 0.1)\n",
        "    print (\"The discount is \", discount)\n",
        "\n",
        "print (\"You will pay \", price - discount,\"in total.\")"
      ],
      "metadata": {
        "colab": {
          "base_uri": "https://localhost:8080/"
        },
        "id": "OKxcaScGSAXX",
        "outputId": "240397ee-74eb-4016-8103-5925a3c6c056"
      },
      "execution_count": null,
      "outputs": [
        {
          "output_type": "stream",
          "name": "stdout",
          "text": [
            "Enter the price of the item: 99\n",
            "The discount is  4.95\n",
            "You will pay  94.05 in total.\n"
          ]
        }
      ]
    },
    {
      "cell_type": "code",
      "source": [
        "price = int(input(\"Enter the price of the item:\"))\n",
        "\n",
        "if price < 100:\n",
        "  discount = price * 0.5\n",
        "  print(\"The discount is\" , discount)\n",
        "\n",
        "else:\n",
        "  discount = price * 0.1\n",
        "  print(\"The discount is\", discount)"
      ],
      "metadata": {
        "colab": {
          "base_uri": "https://localhost:8080/"
        },
        "id": "LF3cCHsOSAZa",
        "outputId": "44718a3a-d81d-40c7-edd2-4ce298f0313c"
      },
      "execution_count": null,
      "outputs": [
        {
          "output_type": "stream",
          "name": "stdout",
          "text": [
            "Enter the price of the item:65\n",
            "The discount is 32.5\n"
          ]
        }
      ]
    },
    {
      "cell_type": "markdown",
      "source": [
        "**Elif**"
      ],
      "metadata": {
        "id": "c3q6mUaekrlT"
      }
    },
    {
      "cell_type": "code",
      "source": [
        "price = int(input(\"Enter the price of the item:\"))\n",
        "\n",
        "if price < 100:\n",
        "  discount = price * 0.5\n",
        "  print(\"The discount is\" , discount)\n",
        "elif price < 500 and price >= 100:\n",
        "  discount = price * 0.1\n",
        "  print(\"The discount is\", discount)\n",
        "else:\n",
        "  discount = price * 0.1\n",
        "  print(\"The discount is\", discount)"
      ],
      "metadata": {
        "colab": {
          "base_uri": "https://localhost:8080/"
        },
        "id": "Jpe2Do81j82r",
        "outputId": "e4159968-1be5-41a2-95ab-aceb489762e5"
      },
      "execution_count": null,
      "outputs": [
        {
          "output_type": "stream",
          "name": "stdout",
          "text": [
            "Enter the price of the item:400\n",
            "The discount is 40.0\n"
          ]
        }
      ]
    },
    {
      "cell_type": "code",
      "source": [],
      "metadata": {
        "id": "ktBER9Dlj9Bi"
      },
      "execution_count": null,
      "outputs": []
    },
    {
      "cell_type": "code",
      "source": [],
      "metadata": {
        "id": "pPvZUAhoj9Eb"
      },
      "execution_count": null,
      "outputs": []
    },
    {
      "cell_type": "code",
      "source": [],
      "metadata": {
        "id": "WN9xSBqrlhC2"
      },
      "execution_count": null,
      "outputs": []
    },
    {
      "cell_type": "code",
      "source": [],
      "metadata": {
        "id": "u6_e_Llvlg_P"
      },
      "execution_count": null,
      "outputs": []
    },
    {
      "cell_type": "code",
      "source": [],
      "metadata": {
        "id": "L9zRFxbRlg8z"
      },
      "execution_count": null,
      "outputs": []
    },
    {
      "cell_type": "code",
      "source": [],
      "metadata": {
        "id": "KYfzp9vxlg6J"
      },
      "execution_count": null,
      "outputs": []
    },
    {
      "cell_type": "code",
      "source": [],
      "metadata": {
        "id": "dXV0BE0clg3Q"
      },
      "execution_count": null,
      "outputs": []
    },
    {
      "cell_type": "code",
      "source": [],
      "metadata": {
        "id": "46P1SFYolgxW"
      },
      "execution_count": null,
      "outputs": []
    },
    {
      "cell_type": "code",
      "source": [],
      "metadata": {
        "id": "DDw17U-rlgm3"
      },
      "execution_count": null,
      "outputs": []
    },
    {
      "cell_type": "code",
      "source": [],
      "metadata": {
        "id": "sEY8VnYilgh_"
      },
      "execution_count": null,
      "outputs": []
    },
    {
      "cell_type": "code",
      "source": [],
      "metadata": {
        "id": "hgvjDlkFj9LN"
      },
      "execution_count": null,
      "outputs": []
    },
    {
      "cell_type": "code",
      "source": [],
      "metadata": {
        "id": "rx3YJVd-j9OB"
      },
      "execution_count": null,
      "outputs": []
    }
  ]
}