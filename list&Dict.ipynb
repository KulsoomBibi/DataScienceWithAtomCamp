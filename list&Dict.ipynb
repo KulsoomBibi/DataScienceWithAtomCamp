{
  "nbformat": 4,
  "nbformat_minor": 0,
  "metadata": {
    "colab": {
      "provenance": [],
      "authorship_tag": "ABX9TyOM3HsS8lWH4cTh7kDGbaG9",
      "include_colab_link": true
    },
    "kernelspec": {
      "name": "python3",
      "display_name": "Python 3"
    },
    "language_info": {
      "name": "python"
    }
  },
  "cells": [
    {
      "cell_type": "markdown",
      "metadata": {
        "id": "view-in-github",
        "colab_type": "text"
      },
      "source": [
        "<a href=\"https://colab.research.google.com/github/KulsoomBibi/DataScienceWithAtomCamp/blob/main/list%26Dict.ipynb\" target=\"_parent\"><img src=\"https://colab.research.google.com/assets/colab-badge.svg\" alt=\"Open In Colab\"/></a>"
      ]
    },
    {
      "cell_type": "markdown",
      "source": [
        "**List**"
      ],
      "metadata": {
        "id": "Jrj4eoaulwBP"
      }
    },
    {
      "cell_type": "code",
      "source": [
        "x = [[1,2,3,4], [5,6,7,8],[9,10,11,12]]\n",
        "print(x)"
      ],
      "metadata": {
        "colab": {
          "base_uri": "https://localhost:8080/"
        },
        "id": "vdl2Mru5dmog",
        "outputId": "890cf6e4-8492-43b1-de96-adabebb3b9aa"
      },
      "execution_count": 21,
      "outputs": [
        {
          "output_type": "stream",
          "name": "stdout",
          "text": [
            "[[1, 2, 3, 4], [5, 6, 7, 8], [9, 10, 11, 12]]\n"
          ]
        }
      ]
    },
    {
      "cell_type": "code",
      "source": [
        "x.insert(1,[20,30,40,50])\n",
        "print(x)"
      ],
      "metadata": {
        "colab": {
          "base_uri": "https://localhost:8080/"
        },
        "id": "688zNQhudmmP",
        "outputId": "5174c030-ccd7-4639-b76a-96fb848134de"
      },
      "execution_count": 22,
      "outputs": [
        {
          "output_type": "stream",
          "name": "stdout",
          "text": [
            "[[1, 2, 3, 4], [20, 30, 40, 50], [5, 6, 7, 8], [9, 10, 11, 12]]\n"
          ]
        }
      ]
    },
    {
      "cell_type": "code",
      "source": [
        "x.extend([[1000,2000,3000,4000], [5000,6000,7000,8000]])\n",
        "print(x)"
      ],
      "metadata": {
        "colab": {
          "base_uri": "https://localhost:8080/"
        },
        "id": "gm-X0Mmjkl2e",
        "outputId": "95dec653-eb27-4ad1-ff55-dd46156ba1f2"
      },
      "execution_count": 26,
      "outputs": [
        {
          "output_type": "stream",
          "name": "stdout",
          "text": [
            "[[1, 2, 3, 4], [20, 30, 40, 50], [5, 6, 7, 8], [9, 10, 11, 12], [60, 70, 80, 90], [60, 70, 80, 90], [1000, 2000, 3000, 4000], [5000, 6000, 7000, 8000]]\n"
          ]
        }
      ]
    },
    {
      "cell_type": "code",
      "source": [
        "x.append([60,70,80,90])\n",
        "print(x)"
      ],
      "metadata": {
        "colab": {
          "base_uri": "https://localhost:8080/"
        },
        "id": "yAG9xMlBdmi_",
        "outputId": "b63bc62f-9157-4b3c-ff35-378029052f10"
      },
      "execution_count": 24,
      "outputs": [
        {
          "output_type": "stream",
          "name": "stdout",
          "text": [
            "[[1, 2, 3, 4], [20, 30, 40, 50], [5, 6, 7, 8], [9, 10, 11, 12], [60, 70, 80, 90], [60, 70, 80, 90]]\n"
          ]
        }
      ]
    },
    {
      "cell_type": "code",
      "source": [
        "x.remove([20,30,40,50])\n",
        "print(x)"
      ],
      "metadata": {
        "colab": {
          "base_uri": "https://localhost:8080/"
        },
        "id": "PIB0N5qEdl_P",
        "outputId": "da8f2211-6565-431e-8838-600ee8021fc4"
      },
      "execution_count": 12,
      "outputs": [
        {
          "output_type": "stream",
          "name": "stdout",
          "text": [
            "[[1, 2, 3, 4], [5, 6, 7, 8], [9, 10, 11, 12], [60, 70, 80, 90]]\n"
          ]
        }
      ]
    },
    {
      "cell_type": "code",
      "source": [
        "x.pop(2)\n",
        "print(x)"
      ],
      "metadata": {
        "colab": {
          "base_uri": "https://localhost:8080/"
        },
        "id": "7yeed_rghTs-",
        "outputId": "fb049707-1cd7-450e-dc6d-17e6546fe0de"
      },
      "execution_count": 19,
      "outputs": [
        {
          "output_type": "stream",
          "name": "stdout",
          "text": [
            "[[5, 6, 7], [9, 10, 11, 12]]\n"
          ]
        }
      ]
    },
    {
      "cell_type": "code",
      "source": [
        "del x[0]\n",
        "print(x)"
      ],
      "metadata": {
        "colab": {
          "base_uri": "https://localhost:8080/"
        },
        "id": "slPx_pophTq1",
        "outputId": "9a2aceab-b03b-4142-f5a9-41134063f933"
      },
      "execution_count": 15,
      "outputs": [
        {
          "output_type": "stream",
          "name": "stdout",
          "text": [
            "[[5, 6, 7, 8], [9, 10, 11, 12], [60, 70, 80, 90]]\n"
          ]
        }
      ]
    },
    {
      "cell_type": "code",
      "source": [
        "del x[0][3]\n",
        "print(x)"
      ],
      "metadata": {
        "colab": {
          "base_uri": "https://localhost:8080/"
        },
        "id": "OnSZ3y_MhTpP",
        "outputId": "6bfb0224-4810-4977-e47b-3bfb15904622"
      },
      "execution_count": 16,
      "outputs": [
        {
          "output_type": "stream",
          "name": "stdout",
          "text": [
            "[[5, 6, 7], [9, 10, 11, 12], [60, 70, 80, 90]]\n"
          ]
        }
      ]
    },
    {
      "cell_type": "markdown",
      "source": [
        "**Dictionaries**\n",
        "\n",
        "key-value pairs\n",
        "\n",
        "dictionary_name = {key: value}"
      ],
      "metadata": {
        "id": "alx10yo_l632"
      }
    },
    {
      "cell_type": "code",
      "source": [
        "x = {\"name\": \"Kulsoom\"}\n",
        "print(x)"
      ],
      "metadata": {
        "colab": {
          "base_uri": "https://localhost:8080/"
        },
        "id": "JLyXvXF-hTm4",
        "outputId": "30b3ffea-4884-4df1-c59d-7603a2a258c0"
      },
      "execution_count": 27,
      "outputs": [
        {
          "output_type": "stream",
          "name": "stdout",
          "text": [
            "{'name': 'Kulsoom'}\n"
          ]
        }
      ]
    },
    {
      "cell_type": "code",
      "source": [
        "x = {\"name\": \"Kulsoom\"}\n",
        "print(x[\"name\"])"
      ],
      "metadata": {
        "colab": {
          "base_uri": "https://localhost:8080/"
        },
        "id": "S3HGjWO5ocNX",
        "outputId": "b9b34373-47cc-4aef-eda4-30f4bd52a417"
      },
      "execution_count": 32,
      "outputs": [
        {
          "output_type": "stream",
          "name": "stdout",
          "text": [
            "Kulsoom\n"
          ]
        }
      ]
    },
    {
      "cell_type": "code",
      "source": [
        "print(x.get(\"course\", \"English\"))\n"
      ],
      "metadata": {
        "colab": {
          "base_uri": "https://localhost:8080/"
        },
        "id": "VWR0XE8khTk_",
        "outputId": "ce6bce7c-15f7-4449-cb6d-b8acb7a96940"
      },
      "execution_count": 31,
      "outputs": [
        {
          "output_type": "stream",
          "name": "stdout",
          "text": [
            "English\n"
          ]
        }
      ]
    },
    {
      "cell_type": "code",
      "source": [
        "x[\"courses\"] = [\"English\", \"Maths\"]\n",
        "print(x)"
      ],
      "metadata": {
        "colab": {
          "base_uri": "https://localhost:8080/"
        },
        "id": "GIxCclAVhTjF",
        "outputId": "3d89b8c3-e34c-41de-f06a-fb06f98382d7"
      },
      "execution_count": 33,
      "outputs": [
        {
          "output_type": "stream",
          "name": "stdout",
          "text": [
            "{'name': 'Kulsoom', 'courses': ['English', 'Maths']}\n"
          ]
        }
      ]
    },
    {
      "cell_type": "code",
      "source": [
        "x[\"Phone\"] = 3005783166\n",
        "print(x)"
      ],
      "metadata": {
        "colab": {
          "base_uri": "https://localhost:8080/"
        },
        "id": "JsuDL7oyhTgN",
        "outputId": "d73419dc-a5b1-47ef-9ff2-92507cf62343"
      },
      "execution_count": 35,
      "outputs": [
        {
          "output_type": "stream",
          "name": "stdout",
          "text": [
            "{'name': 'Kulsoom', 'courses': ['English', 'Maths'], 'Phone': 3005783166}\n"
          ]
        }
      ]
    },
    {
      "cell_type": "code",
      "source": [
        "del x[\"Phone\"]\n",
        "print(x)"
      ],
      "metadata": {
        "colab": {
          "base_uri": "https://localhost:8080/"
        },
        "id": "cKj4AnN7hTdV",
        "outputId": "e18afe3f-37d5-42d8-eff2-8beaabb6f02c"
      },
      "execution_count": 36,
      "outputs": [
        {
          "output_type": "stream",
          "name": "stdout",
          "text": [
            "{'name': 'Kulsoom', 'courses': ['English', 'Maths']}\n"
          ]
        }
      ]
    },
    {
      "cell_type": "code",
      "source": [
        "x.pop(\"courses\")\n",
        "print(x)"
      ],
      "metadata": {
        "colab": {
          "base_uri": "https://localhost:8080/"
        },
        "id": "TBfW65nRhTaX",
        "outputId": "8e5fb692-10fe-4627-f7a3-edb067b1bfdc"
      },
      "execution_count": 38,
      "outputs": [
        {
          "output_type": "stream",
          "name": "stdout",
          "text": [
            "{'name': 'Kulsoom'}\n"
          ]
        }
      ]
    },
    {
      "cell_type": "code",
      "source": [
        "courses = {\"CS-001\" : \"English\", \"CS-002\" : \"Maths\", \"CS-003\" : \"Urdu\", \"CS-004\" : \"Computer\"}\n",
        "print(courses)"
      ],
      "metadata": {
        "colab": {
          "base_uri": "https://localhost:8080/"
        },
        "id": "nD_EoQvqrL2L",
        "outputId": "36aaa595-fb98-4c3b-ca95-0b9b53a23adf"
      },
      "execution_count": 43,
      "outputs": [
        {
          "output_type": "stream",
          "name": "stdout",
          "text": [
            "{'CS-001': 'English', 'CS-002': 'Maths', 'CS-003': 'Urdu', 'CS-004': 'Computer'}\n"
          ]
        }
      ]
    },
    {
      "cell_type": "code",
      "source": [
        "print(courses.keys())"
      ],
      "metadata": {
        "colab": {
          "base_uri": "https://localhost:8080/"
        },
        "id": "1YKpH_9mrLzZ",
        "outputId": "78cf4967-ffe4-4d04-a4e0-0fc2532c73b5"
      },
      "execution_count": 45,
      "outputs": [
        {
          "output_type": "stream",
          "name": "stdout",
          "text": [
            "dict_keys(['CS-001', 'CS-002', 'CS-003', 'CS-004'])\n"
          ]
        }
      ]
    },
    {
      "cell_type": "code",
      "source": [
        "print(courses.values())"
      ],
      "metadata": {
        "colab": {
          "base_uri": "https://localhost:8080/"
        },
        "id": "aeYWgF9LrLxQ",
        "outputId": "f6fa89b0-7a67-494a-bc74-54895642fa4b"
      },
      "execution_count": 46,
      "outputs": [
        {
          "output_type": "stream",
          "name": "stdout",
          "text": [
            "dict_values(['English', 'Maths', 'Urdu', 'Computer'])\n"
          ]
        }
      ]
    },
    {
      "cell_type": "code",
      "source": [
        "print(courses.items())"
      ],
      "metadata": {
        "colab": {
          "base_uri": "https://localhost:8080/"
        },
        "id": "mG7x2yQVrLvK",
        "outputId": "24961815-506e-495d-ecc2-58f1b92ff427"
      },
      "execution_count": 47,
      "outputs": [
        {
          "output_type": "stream",
          "name": "stdout",
          "text": [
            "dict_items([('CS-001', 'English'), ('CS-002', 'Maths'), ('CS-003', 'Urdu'), ('CS-004', 'Computer')])\n"
          ]
        }
      ]
    },
    {
      "cell_type": "code",
      "source": [
        "for key in courses:\n",
        "    print(key)"
      ],
      "metadata": {
        "colab": {
          "base_uri": "https://localhost:8080/"
        },
        "id": "fFT2nXZsrLtB",
        "outputId": "cfdcf9df-5eec-4f72-cd55-27e55b4c4ca5"
      },
      "execution_count": 54,
      "outputs": [
        {
          "output_type": "stream",
          "name": "stdout",
          "text": [
            "CS-001\n",
            "CS-002\n",
            "CS-003\n",
            "CS-004\n"
          ]
        }
      ]
    },
    {
      "cell_type": "code",
      "source": [
        "for value in courses:\n",
        "    print(value)"
      ],
      "metadata": {
        "colab": {
          "base_uri": "https://localhost:8080/"
        },
        "id": "1M1uyq8StzZi",
        "outputId": "dda287de-f320-43f0-cdf2-3dc37810d4cd"
      },
      "execution_count": 56,
      "outputs": [
        {
          "output_type": "stream",
          "name": "stdout",
          "text": [
            "CS-001\n",
            "CS-002\n",
            "CS-003\n",
            "CS-004\n"
          ]
        }
      ]
    },
    {
      "cell_type": "code",
      "source": [
        "for key, value in courses.items():\n",
        "    print(key, value)"
      ],
      "metadata": {
        "colab": {
          "base_uri": "https://localhost:8080/"
        },
        "id": "GHKVqsTfrLo4",
        "outputId": "419ac863-2c75-4d0d-e4d6-f53ba343504f"
      },
      "execution_count": 52,
      "outputs": [
        {
          "output_type": "stream",
          "name": "stdout",
          "text": [
            "CS-001 English\n",
            "CS-002 Maths\n",
            "CS-003 Urdu\n",
            "CS-004 Computer\n"
          ]
        }
      ]
    },
    {
      "cell_type": "markdown",
      "source": [
        "**IF STATEMENTS**"
      ],
      "metadata": {
        "id": "S-ByAPVQup4R"
      }
    },
    {
      "cell_type": "code",
      "source": [
        "num = int(input(\"Enter a number:\"))\n",
        "\n",
        "if num > 0:\n",
        "    print(\"Postive number\")\n"
      ],
      "metadata": {
        "colab": {
          "base_uri": "https://localhost:8080/"
        },
        "id": "Yv_UDKG3xVD8",
        "outputId": "70d90823-4e08-404d-f306-308808f08ad5"
      },
      "execution_count": 58,
      "outputs": [
        {
          "output_type": "stream",
          "name": "stdout",
          "text": [
            "Enter a number:6\n",
            "Postive number\n"
          ]
        }
      ]
    },
    {
      "cell_type": "code",
      "source": [
        "num = int(input(\"Enter a number:\"))\n",
        "\n",
        "if num > 0:\n",
        "    print(\"Postive number\")\n",
        "\n",
        "else:\n",
        "    print(\"Negative number\")\n",
        "\n"
      ],
      "metadata": {
        "colab": {
          "base_uri": "https://localhost:8080/"
        },
        "id": "5ClFiFEwyq6R",
        "outputId": "e52b0799-8a69-4afe-8a2c-8a23aa457b07"
      },
      "execution_count": 61,
      "outputs": [
        {
          "output_type": "stream",
          "name": "stdout",
          "text": [
            "Enter a number:-24\n",
            "Negative number\n"
          ]
        }
      ]
    },
    {
      "cell_type": "code",
      "source": [
        "num = int(input(\"Enter a number:\"))\n",
        "\n",
        "if num > 0:\n",
        "    print(\"Postive number\")\n",
        "\n",
        "elif num == 0:\n",
        "    print(\"Zero\")\n",
        "\n",
        "\n",
        "else:\n",
        "    print(\"Negative number\")"
      ],
      "metadata": {
        "colab": {
          "base_uri": "https://localhost:8080/"
        },
        "id": "LPCOQjjfxU-_",
        "outputId": "44117304-9f69-453f-9d9e-75144b49a194"
      },
      "execution_count": 59,
      "outputs": [
        {
          "output_type": "stream",
          "name": "stdout",
          "text": [
            "Enter a number:44\n",
            "Postive number\n"
          ]
        }
      ]
    },
    {
      "cell_type": "code",
      "source": [
        "# if-else\n",
        "\n",
        "price = int(input(\"Enter price of item:\"))\n",
        "\n",
        "if (price < 100):\n",
        "    discount = (price * 0.05)\n",
        "    print(\"Discount is\", discount)\n",
        "\n",
        "else:\n",
        "    discount = (price * 0.10)\n",
        "    print(\"Discount is\", discount)\n",
        "\n",
        "\n",
        ""
      ],
      "metadata": {
        "colab": {
          "base_uri": "https://localhost:8080/"
        },
        "id": "RGxcaJaCxU6K",
        "outputId": "60ec3d1b-4ca1-4176-a7aa-d06525617ee5"
      },
      "execution_count": 63,
      "outputs": [
        {
          "output_type": "stream",
          "name": "stdout",
          "text": [
            "Enter price of item:64\n",
            "Discount is 3.2\n"
          ]
        }
      ]
    },
    {
      "cell_type": "code",
      "source": [
        "#Elif\n",
        "price = int(input(\"Enter price of item:\"))\n",
        "\n",
        "if (price < 100):\n",
        "    discount = (price * 0.05)\n",
        "    print(\"Discount is\", discount)\n",
        "elif (price > 100 and price <= 200):\n",
        "    discount = (price * 0.10)\n",
        "    print(\"Disount is\", discount)\n",
        "elif (price > 200 and price <= 500):\n",
        "      discount = (price * 0.15)\n",
        "      print(\"Discount is\", discount)\n",
        "else:\n",
        "    discount = (price * 0.10)\n",
        "    print(\"Discount is\", discount)"
      ],
      "metadata": {
        "colab": {
          "base_uri": "https://localhost:8080/"
        },
        "id": "9HdXtqFmxU1S",
        "outputId": "61f58986-9388-46b9-f68a-6ee749f862cb"
      },
      "execution_count": 66,
      "outputs": [
        {
          "output_type": "stream",
          "name": "stdout",
          "text": [
            "Enter price of item:450\n",
            "Discount is 67.5\n"
          ]
        }
      ]
    },
    {
      "cell_type": "markdown",
      "source": [
        "**Nested IFs**"
      ],
      "metadata": {
        "id": "FO1WjbDK3C07"
      }
    },
    {
      "cell_type": "code",
      "source": [
        "# check if a number is divisible by 2 & 3\n",
        "\n",
        "num = int(input(\"Enter a number\"))\n",
        "\n",
        "if (num % 2 == 0):\n",
        "    if (num % 3 == 0):\n",
        "        print(\"Number is divisible by 2 and 3\")\n",
        "    else:\n",
        "        print(\"Number is divisible by 2 but not by 3\")\n",
        "else:\n",
        "    print(\"Number is not divisible by 2\")\n",
        ""
      ],
      "metadata": {
        "colab": {
          "base_uri": "https://localhost:8080/"
        },
        "id": "gmbSttNUrLkQ",
        "outputId": "465d57c2-9bef-401d-f7da-cefd87d8841b"
      },
      "execution_count": 68,
      "outputs": [
        {
          "output_type": "stream",
          "name": "stdout",
          "text": [
            "Enter a number12\n",
            "Number is divisible by 2 and 3\n"
          ]
        }
      ]
    },
    {
      "cell_type": "code",
      "source": [
        "num = int(input(\"Enter a number\"))\n",
        "\n",
        "if (num % 2 == 0):\n",
        "    if (num % 3 == 0):\n",
        "        print(\"Number is divisible by 2 and 3\")\n",
        "\n",
        "    else:\n",
        "        print(\"Number is divisible by 2 but not by 3\")\n",
        "\n",
        "else:\n",
        "      print(\"Number is not divisivle by 2\")\n"
      ],
      "metadata": {
        "colab": {
          "base_uri": "https://localhost:8080/"
        },
        "id": "EbqwAwz2rLho",
        "outputId": "39175371-b6f6-4c1e-f7c6-5ae8461efe74"
      },
      "execution_count": 69,
      "outputs": [
        {
          "output_type": "stream",
          "name": "stdout",
          "text": [
            "Enter a number15\n",
            "Number is not divisivle by 2\n"
          ]
        }
      ]
    },
    {
      "cell_type": "markdown",
      "source": [
        "**For Loops**"
      ],
      "metadata": {
        "id": "X2qYRdOo5wRc"
      }
    },
    {
      "cell_type": "code",
      "source": [
        "fruits = [\"apple\", \"banana\", \"cherry\"]\n",
        "for x in fruits:\n",
        "    print(x)"
      ],
      "metadata": {
        "colab": {
          "base_uri": "https://localhost:8080/"
        },
        "id": "ezjsKxxJrLax",
        "outputId": "058c35b7-54b9-472b-adc1-517bc23a5f2c"
      },
      "execution_count": 70,
      "outputs": [
        {
          "output_type": "stream",
          "name": "stdout",
          "text": [
            "apple\n",
            "banana\n",
            "cherry\n"
          ]
        }
      ]
    },
    {
      "cell_type": "code",
      "source": [
        "fruits = [\"apple\", \"banana\", \"cherry\"]\n",
        "\n",
        "print(fruits[0])\n",
        "print(fruits[1])\n",
        "print(fruits[2])"
      ],
      "metadata": {
        "colab": {
          "base_uri": "https://localhost:8080/"
        },
        "id": "Z5lprpMq8t_N",
        "outputId": "9989eccc-d3ca-49e1-e951-c7e429be10c0"
      },
      "execution_count": 81,
      "outputs": [
        {
          "output_type": "stream",
          "name": "stdout",
          "text": [
            "apple\n",
            "banana\n",
            "cherry\n"
          ]
        }
      ]
    },
    {
      "cell_type": "code",
      "source": [
        "fruits = [\"apple\", \"banana\", \"cherry\"]\n",
        "for num , fruits in enumerate(fruits):\n",
        "    print(num , fruits)\n"
      ],
      "metadata": {
        "colab": {
          "base_uri": "https://localhost:8080/"
        },
        "id": "xxpAPOc596W1",
        "outputId": "c694d0e7-f676-46b2-a3a1-5b754e5cc9c1"
      },
      "execution_count": 84,
      "outputs": [
        {
          "output_type": "stream",
          "name": "stdout",
          "text": [
            "0 apple\n",
            "1 banana\n",
            "2 cherry\n"
          ]
        }
      ]
    },
    {
      "cell_type": "code",
      "source": [
        "fruits = [\"apple\", \"banana\", \"cherry\"]\n",
        "for var in fruits:\n",
        "    print(var)"
      ],
      "metadata": {
        "colab": {
          "base_uri": "https://localhost:8080/"
        },
        "id": "nCfOn6z36gFb",
        "outputId": "4dbe5e64-5fd4-412b-c40f-7fe00f3a2c89"
      },
      "execution_count": 71,
      "outputs": [
        {
          "output_type": "stream",
          "name": "stdout",
          "text": [
            "apple\n",
            "banana\n",
            "cherry\n"
          ]
        }
      ]
    },
    {
      "cell_type": "code",
      "source": [
        "fruits = [\"apple\", \"banana\", \"cherry\"]\n",
        "for var in fruits:\n",
        "    var = var.upper()\n",
        "    print(var)"
      ],
      "metadata": {
        "colab": {
          "base_uri": "https://localhost:8080/"
        },
        "id": "ZUl7ZjX96gCt",
        "outputId": "04f326ea-37fa-4c1c-8b2f-d2fa9d14b20c"
      },
      "execution_count": 72,
      "outputs": [
        {
          "output_type": "stream",
          "name": "stdout",
          "text": [
            "APPLE\n",
            "BANANA\n",
            "CHERRY\n"
          ]
        }
      ]
    },
    {
      "cell_type": "code",
      "source": [
        "fruits = [\"apple\", \"banana\", \"cherry\"]\n",
        "for var in fruits:\n",
        "    var = var.lower()\n",
        "    print(var)"
      ],
      "metadata": {
        "colab": {
          "base_uri": "https://localhost:8080/"
        },
        "id": "wr2NlZTx6f9F",
        "outputId": "75c20b5c-f23b-4896-f52d-fdfc83ad7836"
      },
      "execution_count": 73,
      "outputs": [
        {
          "output_type": "stream",
          "name": "stdout",
          "text": [
            "apple\n",
            "banana\n",
            "cherry\n"
          ]
        }
      ]
    },
    {
      "cell_type": "code",
      "source": [
        "fruits = [\"apple\", \"banana\", \"cherry\"]\n",
        "for var in fruits:\n",
        "    var = var.title()\n",
        "    print(var)"
      ],
      "metadata": {
        "colab": {
          "base_uri": "https://localhost:8080/"
        },
        "id": "5k1cHcZy6f60",
        "outputId": "d9a3c73a-2ff4-4eec-9d31-d48b2fb8f216"
      },
      "execution_count": 74,
      "outputs": [
        {
          "output_type": "stream",
          "name": "stdout",
          "text": [
            "Apple\n",
            "Banana\n",
            "Cherry\n"
          ]
        }
      ]
    },
    {
      "cell_type": "code",
      "source": [
        "fruits = [\"apple\", \"banana\", \"cherry\"]\n",
        "for var in fruits:\n",
        "    var = var.capitalize()\n",
        "    print(var)"
      ],
      "metadata": {
        "colab": {
          "base_uri": "https://localhost:8080/"
        },
        "id": "x5nSL4lp6f4p",
        "outputId": "c655c70c-afd8-4abd-febe-2863d4a7d6a2"
      },
      "execution_count": 75,
      "outputs": [
        {
          "output_type": "stream",
          "name": "stdout",
          "text": [
            "Apple\n",
            "Banana\n",
            "Cherry\n"
          ]
        }
      ]
    },
    {
      "cell_type": "code",
      "source": [
        "fruits = [\"apple\", \"banana\", \"cherry\"]\n",
        "for var in fruits:\n",
        "    var = var.swapcase()\n",
        "    print(var)"
      ],
      "metadata": {
        "colab": {
          "base_uri": "https://localhost:8080/"
        },
        "id": "CzIoOLrw6f2q",
        "outputId": "a9110f67-db6c-4ef0-9405-e9295875eabb"
      },
      "execution_count": 76,
      "outputs": [
        {
          "output_type": "stream",
          "name": "stdout",
          "text": [
            "APPLE\n",
            "BANANA\n",
            "CHERRY\n"
          ]
        }
      ]
    },
    {
      "cell_type": "code",
      "source": [
        "fruits = [\"apple\", \"banana\", \"cherry\"]\n",
        "for var in fruits:\n",
        "    var = var.zfill(10)\n",
        "    print(var)"
      ],
      "metadata": {
        "colab": {
          "base_uri": "https://localhost:8080/"
        },
        "id": "bcCPanls6f1A",
        "outputId": "fabdd565-4507-40ec-8edd-2ff8cb8cb144"
      },
      "execution_count": 77,
      "outputs": [
        {
          "output_type": "stream",
          "name": "stdout",
          "text": [
            "00000apple\n",
            "0000banana\n",
            "0000cherry\n"
          ]
        }
      ]
    },
    {
      "cell_type": "code",
      "source": [
        "fruits = [\"apple\", \"banana\", \"cherry\"]\n",
        "for var in fruits:\n",
        "    var = var.center(10)\n",
        "    print(var)"
      ],
      "metadata": {
        "colab": {
          "base_uri": "https://localhost:8080/"
        },
        "id": "0dQTk9p46fyz",
        "outputId": "0f8fb31f-3fbe-4c8a-f1fe-d87b0937ba7b"
      },
      "execution_count": 78,
      "outputs": [
        {
          "output_type": "stream",
          "name": "stdout",
          "text": [
            "  apple   \n",
            "  banana  \n",
            "  cherry  \n"
          ]
        }
      ]
    },
    {
      "cell_type": "code",
      "source": [
        "fruits = [\"apple\", \"banana\", \"cherry\"]\n",
        "for var in fruits:\n",
        "    var = var + \"_fruits\"\n",
        "    print(var)"
      ],
      "metadata": {
        "colab": {
          "base_uri": "https://localhost:8080/"
        },
        "id": "7GFoLhQJ6fwJ",
        "outputId": "f248ebc2-a93d-4f49-cf5e-3b410aea7152"
      },
      "execution_count": 79,
      "outputs": [
        {
          "output_type": "stream",
          "name": "stdout",
          "text": [
            "apple_fruits\n",
            "banana_fruits\n",
            "cherry_fruits\n"
          ]
        }
      ]
    },
    {
      "cell_type": "code",
      "source": [],
      "metadata": {
        "id": "dRZrNNhu6ftT"
      },
      "execution_count": null,
      "outputs": []
    },
    {
      "cell_type": "code",
      "source": [],
      "metadata": {
        "id": "k4t6kH_V6frH"
      },
      "execution_count": null,
      "outputs": []
    },
    {
      "cell_type": "code",
      "source": [],
      "metadata": {
        "id": "5beyPTez6foz"
      },
      "execution_count": null,
      "outputs": []
    },
    {
      "cell_type": "code",
      "source": [],
      "metadata": {
        "id": "TM-64qxb6fkr"
      },
      "execution_count": null,
      "outputs": []
    },
    {
      "cell_type": "code",
      "source": [],
      "metadata": {
        "id": "ntRCM0Io6fhz"
      },
      "execution_count": null,
      "outputs": []
    }
  ]
}